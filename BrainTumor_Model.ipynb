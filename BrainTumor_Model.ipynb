{
  "nbformat": 4,
  "nbformat_minor": 0,
  "metadata": {
    "colab": {
      "provenance": [],
      "gpuType": "V28"
    },
    "kernelspec": {
      "name": "python3",
      "display_name": "Python 3"
    },
    "language_info": {
      "name": "python"
    },
    "accelerator": "TPU"
  },
  "cells": [
    {
      "cell_type": "markdown",
      "source": [
        "Leveraging the power of CNN's to detect brain tumors in images of CT scans"
      ],
      "metadata": {
        "id": "c4qFx3uc3PQh"
      }
    },
    {
      "cell_type": "code",
      "execution_count": null,
      "metadata": {
        "colab": {
          "base_uri": "https://localhost:8080/"
        },
        "id": "BEa-bBihk6_X",
        "outputId": "d2c4a6ca-d218-4dc9-ba20-a12e8d7a8d98"
      },
      "outputs": [
        {
          "output_type": "stream",
          "name": "stdout",
          "text": [
            "Collecting opendatasets\n",
            "  Downloading opendatasets-0.1.22-py3-none-any.whl.metadata (9.2 kB)\n",
            "Requirement already satisfied: tqdm in /usr/local/lib/python3.10/dist-packages (from opendatasets) (4.66.6)\n",
            "Requirement already satisfied: kaggle in /usr/local/lib/python3.10/dist-packages (from opendatasets) (1.6.17)\n",
            "Requirement already satisfied: click in /usr/local/lib/python3.10/dist-packages (from opendatasets) (8.1.7)\n",
            "Requirement already satisfied: six>=1.10 in /usr/local/lib/python3.10/dist-packages (from kaggle->opendatasets) (1.16.0)\n",
            "Requirement already satisfied: certifi>=2023.7.22 in /usr/local/lib/python3.10/dist-packages (from kaggle->opendatasets) (2024.8.30)\n",
            "Requirement already satisfied: python-dateutil in /usr/local/lib/python3.10/dist-packages (from kaggle->opendatasets) (2.8.2)\n",
            "Requirement already satisfied: requests in /usr/local/lib/python3.10/dist-packages (from kaggle->opendatasets) (2.32.3)\n",
            "Requirement already satisfied: python-slugify in /usr/local/lib/python3.10/dist-packages (from kaggle->opendatasets) (8.0.4)\n",
            "Requirement already satisfied: urllib3 in /usr/local/lib/python3.10/dist-packages (from kaggle->opendatasets) (2.2.3)\n",
            "Requirement already satisfied: bleach in /usr/local/lib/python3.10/dist-packages (from kaggle->opendatasets) (6.1.0)\n",
            "Requirement already satisfied: webencodings in /usr/local/lib/python3.10/dist-packages (from bleach->kaggle->opendatasets) (0.5.1)\n",
            "Requirement already satisfied: text-unidecode>=1.3 in /usr/local/lib/python3.10/dist-packages (from python-slugify->kaggle->opendatasets) (1.3)\n",
            "Requirement already satisfied: charset-normalizer<4,>=2 in /usr/local/lib/python3.10/dist-packages (from requests->kaggle->opendatasets) (3.4.0)\n",
            "Requirement already satisfied: idna<4,>=2.5 in /usr/local/lib/python3.10/dist-packages (from requests->kaggle->opendatasets) (3.10)\n",
            "Downloading opendatasets-0.1.22-py3-none-any.whl (15 kB)\n",
            "Installing collected packages: opendatasets\n",
            "Successfully installed opendatasets-0.1.22\n"
          ]
        }
      ],
      "source": [
        "!pip install opendatasets"
      ]
    },
    {
      "cell_type": "code",
      "source": [
        "import tensorflow as tf\n",
        "import numpy as np\n",
        "import keras\n",
        "from keras.models import Sequential\n",
        "from keras.optimizers import Adam, Lion, Adagrad\n",
        "from keras.layers import Conv2D, MaxPool2D, BatchNormalization, Resizing, Rescaling, Dense, Dropout, Activation, Input, Flatten, AveragePooling2D\n",
        "from keras.layers import RandomRotation, RandomZoom\n",
        "from keras.losses import CategoricalCrossentropy\n",
        "from keras.callbacks import EarlyStopping\n",
        "from keras.models import save_model\n",
        "import opendatasets as od\n",
        "import os\n",
        "from PIL import Image\n",
        "import matplotlib.pyplot as plt"
      ],
      "metadata": {
        "id": "7KHa41brlI0x"
      },
      "execution_count": null,
      "outputs": []
    },
    {
      "cell_type": "markdown",
      "source": [
        "Download the dataset"
      ],
      "metadata": {
        "id": "ThTPHEzMmCgA"
      }
    },
    {
      "cell_type": "code",
      "source": [
        "od.download(\"https://www.kaggle.com/datasets/sartajbhuvaji/brain-tumor-classification-mri\")"
      ],
      "metadata": {
        "colab": {
          "base_uri": "https://localhost:8080/"
        },
        "id": "AFHvdtGLl-HK",
        "outputId": "7906c98e-3c55-4981-ed5b-80acca90479f"
      },
      "execution_count": null,
      "outputs": [
        {
          "output_type": "stream",
          "name": "stdout",
          "text": [
            "Please provide your Kaggle credentials to download this dataset. Learn more: http://bit.ly/kaggle-creds\n",
            "Your Kaggle username: adityac001\n",
            "Your Kaggle Key: ··········\n",
            "Dataset URL: https://www.kaggle.com/datasets/sartajbhuvaji/brain-tumor-classification-mri\n"
          ]
        }
      ]
    },
    {
      "cell_type": "markdown",
      "source": [
        " Preprocess the data"
      ],
      "metadata": {
        "id": "J7qMn5nvnJMX"
      }
    },
    {
      "cell_type": "code",
      "source": [
        "dataset_path = \"/content/brain-tumor-classification-mri\"\n",
        "directories_dict = {}\n",
        "files_dict = {}\n",
        "labels = []\n",
        "for dirs in os.listdir(dataset_path):\n",
        "  dir_list = []\n",
        "  for roots, directories, files in os.walk(dataset_path+r\"/\"+dirs):\n",
        "    if len(roots)>0 and len(files)>0:\n",
        "      dir_list.append(roots)\n",
        "      labels.append(roots)\n",
        "      files_dict[roots] = files\n",
        "  directories_dict[dirs] = dir_list\n",
        "\n",
        "print(files_dict)"
      ],
      "metadata": {
        "id": "FrOHkTVVm5ax"
      },
      "execution_count": null,
      "outputs": []
    },
    {
      "cell_type": "code",
      "source": [
        "training_image_ds = keras.preprocessing.image_dataset_from_directory(\"/content/brain-tumor-classification-mri/Training\",\n",
        "                                                                        label_mode = \"categorical\",\n",
        "                                                                        shuffle=True,\n",
        "                                                                        seed=42,\n",
        "                                                                        )"
      ],
      "metadata": {
        "id": "UUPR0QUmvktF"
      },
      "execution_count": null,
      "outputs": []
    },
    {
      "cell_type": "markdown",
      "source": [
        "Classes/labels"
      ],
      "metadata": {
        "id": "NsVQzi7T7J0y"
      }
    },
    {
      "cell_type": "code",
      "source": [
        "labels = training_image_ds.class_names\n",
        "print(labels)"
      ],
      "metadata": {
        "id": "ncWILtDA7EhS"
      },
      "execution_count": null,
      "outputs": []
    },
    {
      "cell_type": "code",
      "source": [
        "testing_image_ds = keras.preprocessing.image_dataset_from_directory(\"/content/brain-tumor-classification-mri/Testing\",\n",
        "                                                                       label_mode = \"categorical\",\n",
        "                                                                       )"
      ],
      "metadata": {
        "id": "wq5IKxwhw7mX"
      },
      "execution_count": null,
      "outputs": []
    },
    {
      "cell_type": "markdown",
      "source": [
        "Viewing the images"
      ],
      "metadata": {
        "id": "E_Eyw3DW7SAD"
      }
    },
    {
      "cell_type": "code",
      "source": [
        "def show_image():\n",
        "  global files_dict\n",
        "  roots = list(files_dict.keys())\n",
        "  random_index = np.random.randint(0, len(roots)-1)\n",
        "  files = os.listdir(roots[random_index])\n",
        "  random_file_index = np.random.randint(0, len(files)-1)\n",
        "  img = Image.open(roots[random_index]+\"/\"+files[random_file_index])\n",
        "  img = np.asarray(img)\n",
        "  plt.title(files[random_file_index])\n",
        "  plt.imshow(img)\n",
        "  print(img.shape)\n",
        "\n",
        "show_image()"
      ],
      "metadata": {
        "id": "thfuaJBGyd3l"
      },
      "execution_count": null,
      "outputs": []
    },
    {
      "cell_type": "markdown",
      "source": [
        "## Create the Model :\n",
        "The model consists of image preprocessing layers followed by 2 blocks of **[Conv, Act, MaxPool]** and having a 3 layer deep dense neural network at its end with a dropout layer in between."
      ],
      "metadata": {
        "id": "35POfudXx8wp"
      }
    },
    {
      "cell_type": "code",
      "source": [
        "model = Sequential(\n",
        "    [\n",
        "    Resizing(150, 150),\n",
        "    Rescaling(1./255),\n",
        "    Conv2D(filters=32, kernel_size=(3,3)),\n",
        "    Activation('relu'),\n",
        "    MaxPool2D(pool_size=2),\n",
        "    Conv2D(filters=64, kernel_size=(2,2)),\n",
        "    Activation('relu'),\n",
        "    MaxPool2D(pool_size=2),\n",
        "    BatchNormalization(),\n",
        "    Flatten(),\n",
        "    Dense(120, activation='relu'),\n",
        "    Dense(84, activation='relu'),\n",
        "    Dense(4, activation=\"softmax\")\n",
        "    ]\n",
        ")"
      ],
      "metadata": {
        "id": "wUIEE9krx6C8"
      },
      "execution_count": null,
      "outputs": []
    },
    {
      "cell_type": "markdown",
      "source": [
        "Instantiating an early stopping class"
      ],
      "metadata": {
        "id": "8sIrtSLTNZn1"
      }
    },
    {
      "cell_type": "code",
      "source": [
        "es = EarlyStopping(patience=5, monitor='accuracy', restore_best_weights=True)"
      ],
      "metadata": {
        "id": "0-69feDkNcrT"
      },
      "execution_count": null,
      "outputs": []
    },
    {
      "cell_type": "markdown",
      "source": [
        "Compile the Model"
      ],
      "metadata": {
        "id": "jqZozbqp5zUs"
      }
    },
    {
      "cell_type": "code",
      "source": [
        "model.compile(optimizer = Adam(), loss = CategoricalCrossentropy(), metrics = ['accuracy'])"
      ],
      "metadata": {
        "id": "aFuaON9-52G0"
      },
      "execution_count": null,
      "outputs": []
    },
    {
      "cell_type": "code",
      "source": [
        "history = model.fit(training_image_ds,  epochs=10, callbacks=[es])"
      ],
      "metadata": {
        "id": "FS0uP4gJ6CLn"
      },
      "execution_count": null,
      "outputs": []
    },
    {
      "cell_type": "code",
      "source": [
        "val = model.evaluate(testing_image_ds)"
      ],
      "metadata": {
        "id": "PFZfMCdH3NpO"
      },
      "execution_count": null,
      "outputs": []
    },
    {
      "cell_type": "code",
      "source": [
        "import pandas as pd\n",
        "df = pd.DataFrame(history.history['accuracy'])\n",
        "df.plot()"
      ],
      "metadata": {
        "id": "uoL_uwX1BfaR"
      },
      "execution_count": null,
      "outputs": []
    },
    {
      "cell_type": "markdown",
      "source": [
        "Save the model"
      ],
      "metadata": {
        "id": "YDZzbd_BRZp4"
      }
    },
    {
      "cell_type": "code",
      "source": [
        "model.save('/content/Model/braintumor_model.keras')"
      ],
      "metadata": {
        "id": "TKuxn9QqRUDJ"
      },
      "execution_count": null,
      "outputs": []
    },
    {
      "cell_type": "code",
      "source": [
        "model.save('/content/Model/braintumor_cnn.h5')"
      ],
      "metadata": {
        "id": "OeiovWrCR01K"
      },
      "execution_count": null,
      "outputs": []
    },
    {
      "cell_type": "code",
      "source": [
        "!tar -czvf model.tar.gz /content/Model/braintumor_cnn.h5"
      ],
      "metadata": {
        "id": "jhbRseB3SKEg"
      },
      "execution_count": null,
      "outputs": []
    },
    {
      "cell_type": "code",
      "source": [
        "from google.colab import files\n",
        "files.download('model.tar.gz')"
      ],
      "metadata": {
        "id": "7lgzn0lNSRnR"
      },
      "execution_count": null,
      "outputs": []
    },
    {
      "cell_type": "code",
      "source": [
        "model.summary()"
      ],
      "metadata": {
        "id": "9Ooz_HAUTr1q"
      },
      "execution_count": null,
      "outputs": []
    }
  ]
}